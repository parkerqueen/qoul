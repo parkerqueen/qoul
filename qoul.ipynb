{
 "cells": [
  {
   "cell_type": "markdown",
   "metadata": {
    "colab_type": "text",
    "id": "6fM-rKmx-Ybb"
   },
   "source": [
    "## Authors\n",
    "\n",
    "* parkerqueen\n",
    "* msaad039"
   ]
  },
  {
   "cell_type": "markdown",
   "metadata": {
    "colab_type": "text",
    "id": "coiPIfIqB3Ji"
   },
   "source": [
    "## Resources & Articles\n",
    "[Urdu Resources](http://www.cle.org.pk/software/ling_resources.htm)"
   ]
  },
  {
   "cell_type": "markdown",
   "metadata": {
    "colab_type": "text",
    "id": "mhSBCl7quRnJ"
   },
   "source": [
    "## Imports"
   ]
  },
  {
   "cell_type": "code",
   "execution_count": null,
   "metadata": {
    "colab": {
     "base_uri": "https://localhost:8080/",
     "height": 36
    },
    "colab_type": "code",
    "id": "9YV8q7-EuTFG",
    "outputId": "c2f6a45d-ff91-4dde-d3c8-ce8cf40f33b8"
   },
   "outputs": [],
   "source": [
    "!pip3 install tqdm\n",
    "\n",
    "import os\n",
    "import csv\n",
    "from random import shuffle\n",
    "from shutil import copyfile\n",
    "from tqdm import tqdm"
   ]
  },
  {
   "cell_type": "markdown",
   "metadata": {
    "colab_type": "text",
    "id": "80VtUqgXmTFo"
   },
   "source": [
    "## Useful Paths"
   ]
  },
  {
   "cell_type": "code",
   "execution_count": null,
   "metadata": {
    "colab": {},
    "colab_type": "code",
    "id": "O4qJkas_mVxG"
   },
   "outputs": [],
   "source": [
    "kaldi_root = '../../'\n",
    "kaldi_tools = os.path.join(kaldi_root, 'tools')\n",
    "kaldi_examples = os.path.join(kaldi_root, 'egs')"
   ]
  },
  {
   "cell_type": "markdown",
   "metadata": {
    "colab_type": "text",
    "id": "kMEoflAegRfn"
   },
   "source": [
    "## Training Kaldi"
   ]
  },
  {
   "cell_type": "markdown",
   "metadata": {
    "colab_type": "text",
    "id": "ntiCa4NggaQ_"
   },
   "source": [
    "#### Installing SRILM"
   ]
  },
  {
   "cell_type": "code",
   "execution_count": null,
   "metadata": {
    "colab": {
     "base_uri": "https://localhost:8080/",
     "height": 308
    },
    "colab_type": "code",
    "id": "VGh9T7URkqm3",
    "outputId": "958cbb54-5b33-49cd-e7d8-3eaedf8b9308"
   },
   "outputs": [],
   "source": [
    "!cp srilm.tgz \"$kaldi_tools\"\n",
    "%cd \"$kaldi_tools\"\n",
    "!./install_srilm.sh"
   ]
  },
  {
   "cell_type": "markdown",
   "metadata": {},
   "source": [
    "#### Installing Dependencies"
   ]
  },
  {
   "cell_type": "code",
   "execution_count": null,
   "metadata": {},
   "outputs": [],
   "source": [
    "!./extras/install_mkl.sh\n",
    "!./extras/check_dependencies.sh\n",
    "%cd \"$kaldi_examples\"/qoul"
   ]
  },
  {
   "cell_type": "markdown",
   "metadata": {
    "colab_type": "text",
    "id": "xp-TAYPYrcHv"
   },
   "source": [
    "#### Files To Be Written"
   ]
  },
  {
   "cell_type": "code",
   "execution_count": null,
   "metadata": {
    "colab": {
     "base_uri": "https://localhost:8080/",
     "height": 256
    },
    "colab_type": "code",
    "id": "NTgYdf13rikW",
    "outputId": "a51a87c3-a6f5-4833-c9bb-f5ecc951e82e"
   },
   "outputs": [],
   "source": [
    "traintext = open('data/train/text', 'w')\n",
    "trainscp = open('data/train/wav.scp', 'w')\n",
    "trainutt2spk = open('data/train/utt2spk', 'w')\n",
    "\n",
    "testtext = open('data/test/text', 'w')\n",
    "testscp = open('data/test/wav.scp', 'w')\n",
    "testutt2spk = open('data/test/utt2spk', 'w')"
   ]
  },
  {
   "cell_type": "markdown",
   "metadata": {
    "colab_type": "text",
    "id": "5EaAm8Z4puFK"
   },
   "source": [
    "#### Preparing CSALT Corpus"
   ]
  },
  {
   "cell_type": "code",
   "execution_count": null,
   "metadata": {
    "colab": {},
    "colab_type": "code",
    "id": "bfrX2__D7E6c"
   },
   "outputs": [],
   "source": [
    "# Setting Paths\n",
    "wav_dir = 'audio/csalt'\n",
    "transc_path = 'audio/csalt_transcription.txt'"
   ]
  },
  {
   "cell_type": "code",
   "execution_count": null,
   "metadata": {
    "colab": {},
    "colab_type": "code",
    "id": "gBXJAHm67Gdm"
   },
   "outputs": [],
   "source": [
    "with open(transc_path, 'r') as transc:\n",
    "    # Preparing Data\n",
    "    lines = transc.readlines()\n",
    "    \n",
    "    wavfiles = next(os.walk(wav_dir))[2]\n",
    "    shuffle(wavfiles)\n",
    "    shuffle(wavfiles)\n",
    "    index = int(len(wavfiles) * 0.9)\n",
    "    trainfiles = wavfiles[:index]\n",
    "    testfiles = wavfiles[index:]\n",
    "\n",
    "    for wav in tqdm(trainfiles):\n",
    "        source_path = os.path.join(wav_dir, wav)\n",
    "        wavname = os.path.splitext(wav)[0]\n",
    "\n",
    "        # Writing to data/train/text\n",
    "        traintext.write(f'csalt_speaker_{wavname} {lines[int(wav[1: -4]) - 1].strip()}\\n')\n",
    "\n",
    "        # Writing to data/train/wav.scp\n",
    "        trainscp.write(f'csalt_speaker_{wavname} {source_path}\\n')\n",
    "\n",
    "        # Writing to data/train/utt2spk\n",
    "        trainutt2spk.write(f'csalt_speaker_{wavname} csalt_speaker\\n')\n",
    "\n",
    "    for wav in tqdm(testfiles):\n",
    "        source_path = os.path.join(wav_dir, wav)\n",
    "        wavname = os.path.splitext(wav)[0]\n",
    "\n",
    "        # Writing to data/test/text\n",
    "        testtext.write(f'csalt_speaker_{wavname} {lines[int(wav[1: -4]) - 1].strip()}\\n')\n",
    "\n",
    "        # Writing to data/test/wav.scp\n",
    "        testscp.write(f'csalt_speaker_{wavname} {source_path}\\n')\n",
    "\n",
    "        # Writing to data/test/utt2spk\n",
    "        testutt2spk.write(f'csalt_speaker_{wavname} csalt_speaker\\n')"
   ]
  },
  {
   "cell_type": "markdown",
   "metadata": {
    "colab_type": "text",
    "id": "PDJa_-Tn64rW"
   },
   "source": [
    "#### Preparing RUMI Corpus"
   ]
  },
  {
   "cell_type": "code",
   "execution_count": null,
   "metadata": {
    "colab": {},
    "colab_type": "code",
    "id": "r9KjHDj969bO"
   },
   "outputs": [],
   "source": [
    "wav_dir = 'audio/rumi'\n",
    "transc_path = 'audio/rumi_transcription.txt'"
   ]
  },
  {
   "cell_type": "code",
   "execution_count": null,
   "metadata": {
    "colab": {},
    "colab_type": "code",
    "id": "78-gMjwnGIlJ"
   },
   "outputs": [],
   "source": [
    "with open(transc_path, 'r', encoding = 'utf8') as transc:\n",
    "    lines = transc.readlines()\n",
    "    transcription = {line.split(' ', 1)[0]: line.split(' ', 1)[1].strip() for line in lines}"
   ]
  },
  {
   "cell_type": "code",
   "execution_count": null,
   "metadata": {
    "colab": {},
    "colab_type": "code",
    "id": "x1kyr6SeBTUl"
   },
   "outputs": [],
   "source": [
    "for speaker in next(os.walk(wav_dir))[1]:\n",
    "\n",
    "    wavfiles = next(os.walk(os.path.join(wav_dir, speaker)))[2]\n",
    "    shuffle(wavfiles)\n",
    "    shuffle(wavfiles)\n",
    "    index = int(len(wavfiles) * 0.9)\n",
    "    trainfiles = wavfiles[:index]\n",
    "    testfiles = wavfiles[index:]\n",
    "\n",
    "    for wav in tqdm(trainfiles):\n",
    "        source_path = os.path.join(wav_dir, speaker, wav)\n",
    "        wavname = os.path.splitext(wav)[0]\n",
    "\n",
    "        # Writing to data/train/text\n",
    "        traintext.write(f'rumi_speaker_{speaker}_{wavname} {transcription[wavname]}\\n')\n",
    "\n",
    "        # Writing to data/train/wav.scp\n",
    "        trainscp.write(f'rumi_speaker_{speaker}_{wavname} {source_path}\\n')\n",
    "\n",
    "        # Writing to data/train/utt2spk\n",
    "        trainutt2spk.write(f'rumi_speaker_{speaker}_{wavname} rumi_speaker_{speaker}\\n')\n",
    "\n",
    "    for wav in tqdm(testfiles):\n",
    "        source_path = os.path.join(wav_dir, speaker, wav)\n",
    "        wavname = os.path.splitext(wav)[0]\n",
    "\n",
    "        # Writing to data/test/text\n",
    "        testtext.write(f'rumi_speaker_{speaker}_{wavname} {transcription[wavname]}\\n')\n",
    "\n",
    "        # Writing to data/test/wav.scp\n",
    "        testscp.write(f'rumi_speaker_{speaker}_{wavname} {source_path}\\n')\n",
    "\n",
    "        # Writing to data/test/utt2spk\n",
    "        testutt2spk.write(f'rumi_speaker_{speaker}_{wavname} rumi_speaker_{speaker}\\n')"
   ]
  },
  {
   "cell_type": "markdown",
   "metadata": {
    "colab_type": "text",
    "id": "U5hKupZzk5Fk"
   },
   "source": [
    "#### Closing Files (IMPORTANT)"
   ]
  },
  {
   "cell_type": "code",
   "execution_count": null,
   "metadata": {
    "colab": {},
    "colab_type": "code",
    "id": "dwknoLvUkeRl"
   },
   "outputs": [],
   "source": [
    "traintext.close()\n",
    "trainscp.close()\n",
    "trainutt2spk.close()\n",
    "\n",
    "testtext.close()\n",
    "testscp.close()\n",
    "testutt2spk.close()"
   ]
  },
  {
   "cell_type": "markdown",
   "metadata": {
    "colab_type": "text",
    "id": "Sg0mbwIH7AVZ"
   },
   "source": [
    "#### Preparing Language Data"
   ]
  },
  {
   "cell_type": "code",
   "execution_count": null,
   "metadata": {
    "colab": {},
    "colab_type": "code",
    "id": "1jOoTGvP7ayE"
   },
   "outputs": [],
   "source": [
    "!echo 'SIL\\nOOV' > /data/local/lang/silence_phones.txt\n",
    "!echo 'SIL' > /data/local/lang/optional_silence.txt\n",
    "!cut -d ' ' -f 2- /data/local/lang/lexicon.txt | sed 's/ /\\n/g' | sed '/OOV/d' | sed '/SIL/d' | sort -u > /data/local/lang/nonsilence_phones.txt"
   ]
  },
  {
   "cell_type": "markdown",
   "metadata": {},
   "source": [
    "#### Creating Mandatory Symlinks"
   ]
  },
  {
   "cell_type": "code",
   "execution_count": null,
   "metadata": {},
   "outputs": [],
   "source": [
    "!ln -s \"$kaldi_examples\"/wsj/s5/steps .\n",
    "!ln -s \"$kaldi_examples\"/wsj/s5/utils ."
   ]
  },
  {
   "cell_type": "markdown",
   "metadata": {
    "colab_type": "text",
    "id": "A-y9cpElCL5_"
   },
   "source": [
    "#### Training"
   ]
  },
  {
   "cell_type": "markdown",
   "metadata": {},
   "source": [
    "Data, Lexicon & Language Model Preparation"
   ]
  },
  {
   "cell_type": "code",
   "execution_count": null,
   "metadata": {
    "colab": {},
    "colab_type": "code",
    "id": "_gfPgMatie7n"
   },
   "outputs": [],
   "source": [
    "!./prep.sh"
   ]
  },
  {
   "cell_type": "markdown",
   "metadata": {},
   "source": [
    "MFCC Features Extractions"
   ]
  },
  {
   "cell_type": "code",
   "execution_count": null,
   "metadata": {
    "colab": {},
    "colab_type": "code",
    "id": "quBrYuG5ie-q"
   },
   "outputs": [],
   "source": [
    "!./mfcc_cmvn.sh"
   ]
  },
  {
   "cell_type": "markdown",
   "metadata": {},
   "source": [
    "Training Monophone Model"
   ]
  },
  {
   "cell_type": "code",
   "execution_count": null,
   "metadata": {
    "colab": {},
    "colab_type": "code",
    "id": "b4L_LKFjifB9"
   },
   "outputs": [],
   "source": [
    "!./mono.sh"
   ]
  },
  {
   "cell_type": "markdown",
   "metadata": {},
   "source": [
    "Training & Decoding Triphone-1 Model (Deltas + Delta-Delta Model)"
   ]
  },
  {
   "cell_type": "code",
   "execution_count": null,
   "metadata": {
    "colab": {},
    "colab_type": "code",
    "id": "NElAOYM3ifES",
    "scrolled": false
   },
   "outputs": [],
   "source": [
    "!./tri1.sh"
   ]
  },
  {
   "cell_type": "markdown",
   "metadata": {},
   "source": [
    "Training & Decoding Triphone-2 Model (LDA + MLLT Model)"
   ]
  },
  {
   "cell_type": "code",
   "execution_count": null,
   "metadata": {
    "colab": {},
    "colab_type": "code",
    "id": "XNFfNyIjifG_",
    "scrolled": false
   },
   "outputs": [],
   "source": [
    "!./tri2.sh"
   ]
  },
  {
   "cell_type": "markdown",
   "metadata": {},
   "source": [
    "Training & Decoding Triphone-3 Model (LDA + MLLT + SAT Model)"
   ]
  },
  {
   "cell_type": "code",
   "execution_count": null,
   "metadata": {
    "colab": {},
    "colab_type": "code",
    "id": "vnypyBRzifLo",
    "scrolled": false
   },
   "outputs": [],
   "source": [
    "!./tri3.sh"
   ]
  },
  {
   "cell_type": "markdown",
   "metadata": {},
   "source": [
    "Training & Decoding SGMM2 Model"
   ]
  },
  {
   "cell_type": "code",
   "execution_count": null,
   "metadata": {
    "colab": {},
    "colab_type": "code",
    "id": "Ys_fQq8QifJ1"
   },
   "outputs": [],
   "source": [
    "!./sgmm2.sh"
   ]
  },
  {
   "cell_type": "markdown",
   "metadata": {},
   "source": [
    "Training & Decoding MMI + SGMM2 Model"
   ]
  },
  {
   "cell_type": "code",
   "execution_count": null,
   "metadata": {
    "colab": {},
    "colab_type": "code",
    "id": "dacWrmV0iov2"
   },
   "outputs": [],
   "source": [
    "!./mmi_sgmm2.sh"
   ]
  },
  {
   "cell_type": "code",
   "execution_count": null,
   "metadata": {},
   "outputs": [],
   "source": []
  }
 ],
 "metadata": {
  "colab": {
   "collapsed_sections": [
    "G4h8fvujCdC9",
    "5EaAm8Z4puFK",
    "PDJa_-Tn64rW",
    "Oj_6yLOu66tO",
    "U5hKupZzk5Fk",
    "3vC0y0u6nA6V"
   ],
   "name": "POSEIDON-ASR",
   "provenance": [],
   "toc_visible": true
  },
  "kernelspec": {
   "display_name": "Python 3.6.9 64-bit",
   "language": "python",
   "name": "python36964bite79aea2b33b14ed89ab79b68be9ff328"
  },
  "language_info": {
   "codemirror_mode": {
    "name": "ipython",
    "version": 3
   },
   "file_extension": ".py",
   "mimetype": "text/x-python",
   "name": "python",
   "nbconvert_exporter": "python",
   "pygments_lexer": "ipython3",
   "version": "3.8.2"
  }
 },
 "nbformat": 4,
 "nbformat_minor": 1
}
